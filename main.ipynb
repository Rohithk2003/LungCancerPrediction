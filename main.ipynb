{
 "cells": [
  {
   "cell_type": "code",
   "execution_count": 19,
   "metadata": {
    "ExecuteTime": {
     "end_time": "2024-01-09T16:43:34.479609300Z",
     "start_time": "2024-01-09T16:43:34.452884600Z"
    }
   },
   "outputs": [
    {
     "name": "stdout",
     "output_type": "stream",
     "text": [
      "The autoreload extension is already loaded. To reload it, use:\n",
      "  %reload_ext autoreload\n"
     ]
    }
   ],
   "source": [
    "%load_ext autoreload\n",
    "%autoreload 2\n",
    "import pandas as pd\n",
    "import numpy as np\n",
    "import seaborn as sns\n",
    "import matplotlib.pyplot as plt\n",
    "from sklearn.model_selection import StratifiedKFold\n",
    "from sklearn.model_selection import RepeatedKFold\n",
    "from sklearn.model_selection import KFold\n",
    "from sklearn.ensemble import RandomForestClassifier\n",
    "from sklearn.preprocessing import LabelEncoder\n",
    "from sklearn.linear_model import LogisticRegression\n",
    "from sklearn.tree import DecisionTreeClassifier\n",
    "from sklearn.svm import LinearSVC\n",
    "from sklearn.metrics import accuracy_score\n",
    "from sklearn.metrics import confusion_matrix\n",
    "from sklearn.metrics import classification_report\n",
    "from sklearn.neighbors import KNeighborsClassifier\n",
    "from sklearn.naive_bayes import MultinomialNB"
   ]
  },
  {
   "cell_type": "code",
   "execution_count": null,
   "metadata": {},
   "outputs": [],
   "source": []
  },
  {
   "cell_type": "code",
   "execution_count": 20,
   "metadata": {
    "ExecuteTime": {
     "end_time": "2024-01-09T16:43:34.525797800Z",
     "start_time": "2024-01-09T16:43:34.471485800Z"
    }
   },
   "outputs": [],
   "source": [
    "df_lung_cancer = pd.read_csv(\"lungcancer.csv\")\n",
    "df_liver_disease = pd.read_csv(\"liver_disease.csv\",encoding=\"Windows-1254\")\n",
    "df_dementia_disease = pd.read_csv(\"dementia_dataset.csv\")\n",
    "df_heart_disease = pd.read_csv(\"heart.csv\")"
   ]
  },
  {
   "cell_type": "code",
   "execution_count": 21,
   "metadata": {
    "ExecuteTime": {
     "end_time": "2024-01-09T16:43:34.527103200Z",
     "start_time": "2024-01-09T16:43:34.507280500Z"
    },
    "collapsed": false
   },
   "outputs": [
    {
     "name": "stdout",
     "output_type": "stream",
     "text": [
      "<class 'pandas.core.frame.DataFrame'>\n",
      "RangeIndex: 373 entries, 0 to 372\n",
      "Data columns (total 15 columns):\n",
      " #   Column      Non-Null Count  Dtype  \n",
      "---  ------      --------------  -----  \n",
      " 0   Subject ID  373 non-null    object \n",
      " 1   MRI ID      373 non-null    object \n",
      " 2   Group       373 non-null    object \n",
      " 3   Visit       373 non-null    int64  \n",
      " 4   MR Delay    373 non-null    int64  \n",
      " 5   M/F         373 non-null    object \n",
      " 6   Hand        373 non-null    object \n",
      " 7   Age         373 non-null    int64  \n",
      " 8   EDUC        373 non-null    int64  \n",
      " 9   SES         354 non-null    float64\n",
      " 10  MMSE        371 non-null    float64\n",
      " 11  CDR         373 non-null    float64\n",
      " 12  eTIV        373 non-null    int64  \n",
      " 13  nWBV        373 non-null    float64\n",
      " 14  ASF         373 non-null    float64\n",
      "dtypes: float64(5), int64(5), object(5)\n",
      "memory usage: 43.8+ KB\n"
     ]
    }
   ],
   "source": [
    "df_dementia_disease.info()"
   ]
  },
  {
   "cell_type": "code",
   "execution_count": 22,
   "metadata": {
    "ExecuteTime": {
     "end_time": "2024-01-09T16:43:34.582986500Z",
     "start_time": "2024-01-09T16:43:34.530787100Z"
    },
    "collapsed": false
   },
   "outputs": [],
   "source": [
    "df_liver_disease = df_liver_disease[[    'Age of the patient',\n",
    "    'Gender of the patient',\n",
    "    'Total Bilirubin',\n",
    "    'Direct Bilirubin',\n",
    "    'Alkphos Alkaline Phosphotase',\n",
    "    'Sgpt Alamine Aminotransferase',\n",
    "    'Sgot Aspartate Aminotransferase',\n",
    "    'Total Protiens',\n",
    "    'ALB Albumin',\n",
    "    'A/G Ratio Albumin and Globulin Ratio',\n",
    "    'Result']]\n",
    "df_dementia_disease = df_dementia_disease[[\n",
    "    'Subject ID','MRI ID',\n",
    "    'Visit',\n",
    "    'MR Delay',\n",
    "    'M/F',\n",
    "    'Hand',\n",
    "    'Age',\n",
    "    'EDUC',\n",
    "    'SES',\n",
    "    'MMSE',\n",
    "    'CDR',\n",
    "    'eTIV',\n",
    "    'nWBV',\n",
    "    'ASF',\n",
    "    'Group'\n",
    "]]"
   ]
  },
  {
   "cell_type": "code",
   "execution_count": 23,
   "metadata": {
    "ExecuteTime": {
     "end_time": "2024-01-09T16:43:34.583995100Z",
     "start_time": "2024-01-09T16:43:34.536171100Z"
    }
   },
   "outputs": [
    {
     "name": "stdout",
     "output_type": "stream",
     "text": [
      "<class 'pandas.core.frame.DataFrame'>\n",
      "RangeIndex: 918 entries, 0 to 917\n",
      "Data columns (total 12 columns):\n",
      " #   Column          Non-Null Count  Dtype  \n",
      "---  ------          --------------  -----  \n",
      " 0   Age             918 non-null    int64  \n",
      " 1   Sex             918 non-null    object \n",
      " 2   ChestPainType   918 non-null    object \n",
      " 3   RestingBP       918 non-null    int64  \n",
      " 4   Cholesterol     918 non-null    int64  \n",
      " 5   FastingBS       918 non-null    int64  \n",
      " 6   RestingECG      918 non-null    object \n",
      " 7   MaxHR           918 non-null    int64  \n",
      " 8   ExerciseAngina  918 non-null    object \n",
      " 9   Oldpeak         918 non-null    float64\n",
      " 10  ST_Slope        918 non-null    object \n",
      " 11  HeartDisease    918 non-null    int64  \n",
      "dtypes: float64(1), int64(6), object(5)\n",
      "memory usage: 86.2+ KB\n"
     ]
    }
   ],
   "source": [
    "df_heart_disease.info()"
   ]
  },
  {
   "cell_type": "markdown",
   "metadata": {},
   "source": [
    "# Preprocessing"
   ]
  },
  {
   "cell_type": "code",
   "execution_count": 24,
   "metadata": {
    "ExecuteTime": {
     "end_time": "2024-01-09T16:43:34.601586400Z",
     "start_time": "2024-01-09T16:43:34.554517900Z"
    },
    "collapsed": false
   },
   "outputs": [
    {
     "name": "stdout",
     "output_type": "stream",
     "text": [
      "<class 'pandas.core.frame.DataFrame'>\n",
      "RangeIndex: 30689 entries, 0 to 30688\n",
      "Data columns (total 11 columns):\n",
      " #   Column                                Non-Null Count  Dtype  \n",
      "---  ------                                --------------  -----  \n",
      " 0   Age of the patient                    30687 non-null  float64\n",
      " 1   Gender of the patient                 29787 non-null  object \n",
      " 2   Total Bilirubin                       30041 non-null  float64\n",
      " 3   Direct Bilirubin                      30128 non-null  float64\n",
      " 4   Alkphos Alkaline Phosphotase          29893 non-null  float64\n",
      " 5   Sgpt Alamine Aminotransferase         30151 non-null  float64\n",
      " 6   Sgot Aspartate Aminotransferase       30227 non-null  float64\n",
      " 7   Total Protiens                        30226 non-null  float64\n",
      " 8   ALB Albumin                           30195 non-null  float64\n",
      " 9   A/G Ratio Albumin and Globulin Ratio  30130 non-null  float64\n",
      " 10  Result                                30689 non-null  int64  \n",
      "dtypes: float64(9), int64(1), object(1)\n",
      "memory usage: 2.6+ MB\n"
     ]
    }
   ],
   "source": [
    "df_liver_disease.info()\n",
    "df_liver_disease=df_liver_disease.iloc[0:1000,:]"
   ]
  },
  {
   "cell_type": "code",
   "execution_count": 25,
   "metadata": {
    "ExecuteTime": {
     "end_time": "2024-01-09T16:43:34.642500800Z",
     "start_time": "2024-01-09T16:43:34.589061600Z"
    },
    "collapsed": false
   },
   "outputs": [],
   "source": [
    "df_lung_cancer.drop(columns=['GENDER'],inplace=True)"
   ]
  },
  {
   "cell_type": "code",
   "execution_count": 26,
   "metadata": {},
   "outputs": [
    {
     "name": "stdout",
     "output_type": "stream",
     "text": [
      "<class 'pandas.core.frame.DataFrame'>\n",
      "RangeIndex: 1000 entries, 0 to 999\n",
      "Data columns (total 11 columns):\n",
      " #   Column                                Non-Null Count  Dtype  \n",
      "---  ------                                --------------  -----  \n",
      " 0   Age of the patient                    1000 non-null   float64\n",
      " 1   Gender of the patient                 985 non-null    object \n",
      " 2   Total Bilirubin                       995 non-null    float64\n",
      " 3   Direct Bilirubin                      994 non-null    float64\n",
      " 4   Alkphos Alkaline Phosphotase          993 non-null    float64\n",
      " 5   Sgpt Alamine Aminotransferase         995 non-null    float64\n",
      " 6   Sgot Aspartate Aminotransferase       996 non-null    float64\n",
      " 7   Total Protiens                        992 non-null    float64\n",
      " 8   ALB Albumin                           989 non-null    float64\n",
      " 9   A/G Ratio Albumin and Globulin Ratio  992 non-null    float64\n",
      " 10  Result                                1000 non-null   int64  \n",
      "dtypes: float64(9), int64(1), object(1)\n",
      "memory usage: 86.1+ KB\n"
     ]
    }
   ],
   "source": [
    "df_liver_disease.info()"
   ]
  },
  {
   "cell_type": "code",
   "execution_count": 27,
   "metadata": {
    "ExecuteTime": {
     "end_time": "2024-01-09T16:43:34.707709100Z",
     "start_time": "2024-01-09T16:43:34.646011600Z"
    }
   },
   "outputs": [],
   "source": [
    "df_liver_disease.drop(columns = [\"Gender of the patient\"],inplace=True )\n",
    "for col in df_liver_disease.columns.values:\n",
    "    df_liver_disease[col].fillna(df_liver_disease[col].mean(), inplace=True)\n"
   ]
  },
  {
   "cell_type": "code",
   "execution_count": 28,
   "metadata": {
    "ExecuteTime": {
     "start_time": "2024-01-09T16:43:34.702344500Z"
    },
    "collapsed": false
   },
   "outputs": [
    {
     "name": "stdout",
     "output_type": "stream",
     "text": [
      "<class 'pandas.core.frame.DataFrame'>\n",
      "RangeIndex: 1000 entries, 0 to 999\n",
      "Data columns (total 10 columns):\n",
      " #   Column                                Non-Null Count  Dtype  \n",
      "---  ------                                --------------  -----  \n",
      " 0   Age of the patient                    1000 non-null   float64\n",
      " 1   Total Bilirubin                       1000 non-null   float64\n",
      " 2   Direct Bilirubin                      1000 non-null   float64\n",
      " 3   Alkphos Alkaline Phosphotase          1000 non-null   float64\n",
      " 4   Sgpt Alamine Aminotransferase         1000 non-null   float64\n",
      " 5   Sgot Aspartate Aminotransferase       1000 non-null   float64\n",
      " 6   Total Protiens                        1000 non-null   float64\n",
      " 7   ALB Albumin                           1000 non-null   float64\n",
      " 8   A/G Ratio Albumin and Globulin Ratio  1000 non-null   float64\n",
      " 9   Result                                1000 non-null   int64  \n",
      "dtypes: float64(9), int64(1)\n",
      "memory usage: 78.3 KB\n"
     ]
    }
   ],
   "source": [
    "df_liver_disease.info()"
   ]
  },
  {
   "cell_type": "code",
   "execution_count": 29,
   "metadata": {
    "ExecuteTime": {
     "start_time": "2024-01-09T16:43:34.704080700Z"
    },
    "collapsed": false
   },
   "outputs": [
    {
     "data": {
      "text/html": [
       "<div>\n",
       "<style scoped>\n",
       "    .dataframe tbody tr th:only-of-type {\n",
       "        vertical-align: middle;\n",
       "    }\n",
       "\n",
       "    .dataframe tbody tr th {\n",
       "        vertical-align: top;\n",
       "    }\n",
       "\n",
       "    .dataframe thead th {\n",
       "        text-align: right;\n",
       "    }\n",
       "</style>\n",
       "<table border=\"1\" class=\"dataframe\">\n",
       "  <thead>\n",
       "    <tr style=\"text-align: right;\">\n",
       "      <th></th>\n",
       "      <th>Subject ID</th>\n",
       "      <th>MRI ID</th>\n",
       "      <th>Visit</th>\n",
       "      <th>MR Delay</th>\n",
       "      <th>M/F</th>\n",
       "      <th>Hand</th>\n",
       "      <th>Age</th>\n",
       "      <th>EDUC</th>\n",
       "      <th>SES</th>\n",
       "      <th>MMSE</th>\n",
       "      <th>CDR</th>\n",
       "      <th>eTIV</th>\n",
       "      <th>nWBV</th>\n",
       "      <th>ASF</th>\n",
       "      <th>Group</th>\n",
       "    </tr>\n",
       "  </thead>\n",
       "  <tbody>\n",
       "    <tr>\n",
       "      <th>0</th>\n",
       "      <td>OAS2_0001</td>\n",
       "      <td>OAS2_0001_MR1</td>\n",
       "      <td>1</td>\n",
       "      <td>0</td>\n",
       "      <td>M</td>\n",
       "      <td>R</td>\n",
       "      <td>87</td>\n",
       "      <td>14</td>\n",
       "      <td>2.0</td>\n",
       "      <td>27.0</td>\n",
       "      <td>0.0</td>\n",
       "      <td>1987</td>\n",
       "      <td>0.696</td>\n",
       "      <td>0.883</td>\n",
       "      <td>Nondemented</td>\n",
       "    </tr>\n",
       "    <tr>\n",
       "      <th>1</th>\n",
       "      <td>OAS2_0001</td>\n",
       "      <td>OAS2_0001_MR2</td>\n",
       "      <td>2</td>\n",
       "      <td>457</td>\n",
       "      <td>M</td>\n",
       "      <td>R</td>\n",
       "      <td>88</td>\n",
       "      <td>14</td>\n",
       "      <td>2.0</td>\n",
       "      <td>30.0</td>\n",
       "      <td>0.0</td>\n",
       "      <td>2004</td>\n",
       "      <td>0.681</td>\n",
       "      <td>0.876</td>\n",
       "      <td>Nondemented</td>\n",
       "    </tr>\n",
       "    <tr>\n",
       "      <th>2</th>\n",
       "      <td>OAS2_0002</td>\n",
       "      <td>OAS2_0002_MR1</td>\n",
       "      <td>1</td>\n",
       "      <td>0</td>\n",
       "      <td>M</td>\n",
       "      <td>R</td>\n",
       "      <td>75</td>\n",
       "      <td>12</td>\n",
       "      <td>NaN</td>\n",
       "      <td>23.0</td>\n",
       "      <td>0.5</td>\n",
       "      <td>1678</td>\n",
       "      <td>0.736</td>\n",
       "      <td>1.046</td>\n",
       "      <td>Demented</td>\n",
       "    </tr>\n",
       "    <tr>\n",
       "      <th>3</th>\n",
       "      <td>OAS2_0002</td>\n",
       "      <td>OAS2_0002_MR2</td>\n",
       "      <td>2</td>\n",
       "      <td>560</td>\n",
       "      <td>M</td>\n",
       "      <td>R</td>\n",
       "      <td>76</td>\n",
       "      <td>12</td>\n",
       "      <td>NaN</td>\n",
       "      <td>28.0</td>\n",
       "      <td>0.5</td>\n",
       "      <td>1738</td>\n",
       "      <td>0.713</td>\n",
       "      <td>1.010</td>\n",
       "      <td>Demented</td>\n",
       "    </tr>\n",
       "    <tr>\n",
       "      <th>4</th>\n",
       "      <td>OAS2_0002</td>\n",
       "      <td>OAS2_0002_MR3</td>\n",
       "      <td>3</td>\n",
       "      <td>1895</td>\n",
       "      <td>M</td>\n",
       "      <td>R</td>\n",
       "      <td>80</td>\n",
       "      <td>12</td>\n",
       "      <td>NaN</td>\n",
       "      <td>22.0</td>\n",
       "      <td>0.5</td>\n",
       "      <td>1698</td>\n",
       "      <td>0.701</td>\n",
       "      <td>1.034</td>\n",
       "      <td>Demented</td>\n",
       "    </tr>\n",
       "  </tbody>\n",
       "</table>\n",
       "</div>"
      ],
      "text/plain": [
       "  Subject ID         MRI ID  Visit  MR Delay M/F Hand  Age  EDUC  SES  MMSE  \\\n",
       "0  OAS2_0001  OAS2_0001_MR1      1         0   M    R   87    14  2.0  27.0   \n",
       "1  OAS2_0001  OAS2_0001_MR2      2       457   M    R   88    14  2.0  30.0   \n",
       "2  OAS2_0002  OAS2_0002_MR1      1         0   M    R   75    12  NaN  23.0   \n",
       "3  OAS2_0002  OAS2_0002_MR2      2       560   M    R   76    12  NaN  28.0   \n",
       "4  OAS2_0002  OAS2_0002_MR3      3      1895   M    R   80    12  NaN  22.0   \n",
       "\n",
       "   CDR  eTIV   nWBV    ASF        Group  \n",
       "0  0.0  1987  0.696  0.883  Nondemented  \n",
       "1  0.0  2004  0.681  0.876  Nondemented  \n",
       "2  0.5  1678  0.736  1.046     Demented  \n",
       "3  0.5  1738  0.713  1.010     Demented  \n",
       "4  0.5  1698  0.701  1.034     Demented  "
      ]
     },
     "execution_count": 29,
     "metadata": {},
     "output_type": "execute_result"
    }
   ],
   "source": [
    "df_dementia_disease.head()"
   ]
  },
  {
   "cell_type": "code",
   "execution_count": 30,
   "metadata": {
    "ExecuteTime": {
     "start_time": "2024-01-09T16:43:34.705221900Z"
    }
   },
   "outputs": [
    {
     "data": {
      "text/html": [
       "<div>\n",
       "<style scoped>\n",
       "    .dataframe tbody tr th:only-of-type {\n",
       "        vertical-align: middle;\n",
       "    }\n",
       "\n",
       "    .dataframe tbody tr th {\n",
       "        vertical-align: top;\n",
       "    }\n",
       "\n",
       "    .dataframe thead th {\n",
       "        text-align: right;\n",
       "    }\n",
       "</style>\n",
       "<table border=\"1\" class=\"dataframe\">\n",
       "  <thead>\n",
       "    <tr style=\"text-align: right;\">\n",
       "      <th></th>\n",
       "      <th>Visit</th>\n",
       "      <th>MR Delay</th>\n",
       "      <th>M/F</th>\n",
       "      <th>Hand</th>\n",
       "      <th>Age</th>\n",
       "      <th>EDUC</th>\n",
       "      <th>SES</th>\n",
       "      <th>MMSE</th>\n",
       "      <th>CDR</th>\n",
       "      <th>eTIV</th>\n",
       "      <th>nWBV</th>\n",
       "      <th>ASF</th>\n",
       "      <th>Group</th>\n",
       "    </tr>\n",
       "  </thead>\n",
       "  <tbody>\n",
       "    <tr>\n",
       "      <th>0</th>\n",
       "      <td>1</td>\n",
       "      <td>0</td>\n",
       "      <td>1</td>\n",
       "      <td>1</td>\n",
       "      <td>87</td>\n",
       "      <td>14</td>\n",
       "      <td>2.0</td>\n",
       "      <td>27.0</td>\n",
       "      <td>0.0</td>\n",
       "      <td>1987</td>\n",
       "      <td>0.696</td>\n",
       "      <td>0.883</td>\n",
       "      <td>0.0</td>\n",
       "    </tr>\n",
       "    <tr>\n",
       "      <th>1</th>\n",
       "      <td>2</td>\n",
       "      <td>457</td>\n",
       "      <td>1</td>\n",
       "      <td>1</td>\n",
       "      <td>88</td>\n",
       "      <td>14</td>\n",
       "      <td>2.0</td>\n",
       "      <td>30.0</td>\n",
       "      <td>0.0</td>\n",
       "      <td>2004</td>\n",
       "      <td>0.681</td>\n",
       "      <td>0.876</td>\n",
       "      <td>0.0</td>\n",
       "    </tr>\n",
       "    <tr>\n",
       "      <th>5</th>\n",
       "      <td>1</td>\n",
       "      <td>0</td>\n",
       "      <td>0</td>\n",
       "      <td>1</td>\n",
       "      <td>88</td>\n",
       "      <td>18</td>\n",
       "      <td>3.0</td>\n",
       "      <td>28.0</td>\n",
       "      <td>0.0</td>\n",
       "      <td>1215</td>\n",
       "      <td>0.710</td>\n",
       "      <td>1.444</td>\n",
       "      <td>0.0</td>\n",
       "    </tr>\n",
       "    <tr>\n",
       "      <th>6</th>\n",
       "      <td>2</td>\n",
       "      <td>538</td>\n",
       "      <td>0</td>\n",
       "      <td>1</td>\n",
       "      <td>90</td>\n",
       "      <td>18</td>\n",
       "      <td>3.0</td>\n",
       "      <td>27.0</td>\n",
       "      <td>0.0</td>\n",
       "      <td>1200</td>\n",
       "      <td>0.718</td>\n",
       "      <td>1.462</td>\n",
       "      <td>0.0</td>\n",
       "    </tr>\n",
       "    <tr>\n",
       "      <th>7</th>\n",
       "      <td>1</td>\n",
       "      <td>0</td>\n",
       "      <td>1</td>\n",
       "      <td>1</td>\n",
       "      <td>80</td>\n",
       "      <td>12</td>\n",
       "      <td>4.0</td>\n",
       "      <td>28.0</td>\n",
       "      <td>0.0</td>\n",
       "      <td>1689</td>\n",
       "      <td>0.712</td>\n",
       "      <td>1.039</td>\n",
       "      <td>0.0</td>\n",
       "    </tr>\n",
       "    <tr>\n",
       "      <th>...</th>\n",
       "      <td>...</td>\n",
       "      <td>...</td>\n",
       "      <td>...</td>\n",
       "      <td>...</td>\n",
       "      <td>...</td>\n",
       "      <td>...</td>\n",
       "      <td>...</td>\n",
       "      <td>...</td>\n",
       "      <td>...</td>\n",
       "      <td>...</td>\n",
       "      <td>...</td>\n",
       "      <td>...</td>\n",
       "      <td>...</td>\n",
       "    </tr>\n",
       "    <tr>\n",
       "      <th>363</th>\n",
       "      <td>3</td>\n",
       "      <td>732</td>\n",
       "      <td>0</td>\n",
       "      <td>1</td>\n",
       "      <td>68</td>\n",
       "      <td>13</td>\n",
       "      <td>2.0</td>\n",
       "      <td>30.0</td>\n",
       "      <td>0.0</td>\n",
       "      <td>1506</td>\n",
       "      <td>0.740</td>\n",
       "      <td>1.165</td>\n",
       "      <td>0.0</td>\n",
       "    </tr>\n",
       "    <tr>\n",
       "      <th>364</th>\n",
       "      <td>4</td>\n",
       "      <td>2107</td>\n",
       "      <td>0</td>\n",
       "      <td>1</td>\n",
       "      <td>72</td>\n",
       "      <td>13</td>\n",
       "      <td>2.0</td>\n",
       "      <td>30.0</td>\n",
       "      <td>0.0</td>\n",
       "      <td>1510</td>\n",
       "      <td>0.723</td>\n",
       "      <td>1.162</td>\n",
       "      <td>0.0</td>\n",
       "    </tr>\n",
       "    <tr>\n",
       "      <th>370</th>\n",
       "      <td>1</td>\n",
       "      <td>0</td>\n",
       "      <td>0</td>\n",
       "      <td>1</td>\n",
       "      <td>61</td>\n",
       "      <td>13</td>\n",
       "      <td>2.0</td>\n",
       "      <td>30.0</td>\n",
       "      <td>0.0</td>\n",
       "      <td>1319</td>\n",
       "      <td>0.801</td>\n",
       "      <td>1.331</td>\n",
       "      <td>0.0</td>\n",
       "    </tr>\n",
       "    <tr>\n",
       "      <th>371</th>\n",
       "      <td>2</td>\n",
       "      <td>763</td>\n",
       "      <td>0</td>\n",
       "      <td>1</td>\n",
       "      <td>63</td>\n",
       "      <td>13</td>\n",
       "      <td>2.0</td>\n",
       "      <td>30.0</td>\n",
       "      <td>0.0</td>\n",
       "      <td>1327</td>\n",
       "      <td>0.796</td>\n",
       "      <td>1.323</td>\n",
       "      <td>0.0</td>\n",
       "    </tr>\n",
       "    <tr>\n",
       "      <th>372</th>\n",
       "      <td>3</td>\n",
       "      <td>1608</td>\n",
       "      <td>0</td>\n",
       "      <td>1</td>\n",
       "      <td>65</td>\n",
       "      <td>13</td>\n",
       "      <td>2.0</td>\n",
       "      <td>30.0</td>\n",
       "      <td>0.0</td>\n",
       "      <td>1333</td>\n",
       "      <td>0.801</td>\n",
       "      <td>1.317</td>\n",
       "      <td>0.0</td>\n",
       "    </tr>\n",
       "  </tbody>\n",
       "</table>\n",
       "<p>227 rows × 13 columns</p>\n",
       "</div>"
      ],
      "text/plain": [
       "     Visit  MR Delay  M/F  Hand  Age  EDUC  SES  MMSE  CDR  eTIV   nWBV  \\\n",
       "0        1         0    1     1   87    14  2.0  27.0  0.0  1987  0.696   \n",
       "1        2       457    1     1   88    14  2.0  30.0  0.0  2004  0.681   \n",
       "5        1         0    0     1   88    18  3.0  28.0  0.0  1215  0.710   \n",
       "6        2       538    0     1   90    18  3.0  27.0  0.0  1200  0.718   \n",
       "7        1         0    1     1   80    12  4.0  28.0  0.0  1689  0.712   \n",
       "..     ...       ...  ...   ...  ...   ...  ...   ...  ...   ...    ...   \n",
       "363      3       732    0     1   68    13  2.0  30.0  0.0  1506  0.740   \n",
       "364      4      2107    0     1   72    13  2.0  30.0  0.0  1510  0.723   \n",
       "370      1         0    0     1   61    13  2.0  30.0  0.0  1319  0.801   \n",
       "371      2       763    0     1   63    13  2.0  30.0  0.0  1327  0.796   \n",
       "372      3      1608    0     1   65    13  2.0  30.0  0.0  1333  0.801   \n",
       "\n",
       "       ASF  Group  \n",
       "0    0.883    0.0  \n",
       "1    0.876    0.0  \n",
       "5    1.444    0.0  \n",
       "6    1.462    0.0  \n",
       "7    1.039    0.0  \n",
       "..     ...    ...  \n",
       "363  1.165    0.0  \n",
       "364  1.162    0.0  \n",
       "370  1.331    0.0  \n",
       "371  1.323    0.0  \n",
       "372  1.317    0.0  \n",
       "\n",
       "[227 rows x 13 columns]"
      ]
     },
     "execution_count": 30,
     "metadata": {},
     "output_type": "execute_result"
    }
   ],
   "source": [
    "df_dementia_disease.drop(\n",
    "    columns=[\n",
    "        \"Subject ID\",\n",
    "        \"MRI ID\",\n",
    "    ],\n",
    "    inplace=True,\n",
    ")\n",
    "df_dementia_disease[\"Group\"] = df_dementia_disease[\"Group\"].map(\n",
    "    {\"Demented\": 1, \"Nondemented\": 0}\n",
    ")\n",
    "df_dementia_disease[\"M/F\"] = df_dementia_disease[\"M/F\"].map({\"M\": 1, \"F\": 0})\n",
    "df_dementia_disease[\"Hand\"] = df_dementia_disease[\"Hand\"].map({\"R\": 1, \"L\": 0})\n",
    "df_dementia_disease[\"Group\"].fillna(df_dementia_disease[\"Group\"].mode())\n",
    "df_dementia_disease.replace(\n",
    "    {\"Group\": {\"Demented\": 1, \"Nondemented\": 0, np.nan: 0}}, inplace=True\n",
    ")\n",
    "df_dementia_disease.replace(\n",
    "    {\"Group\": {\"Converted\": df_dementia_disease[\"Group\"].mode()}}, inplace=True\n",
    ")\n",
    "df_dementia_disease[\"SES\"].fillna(df_dementia_disease[\"SES\"].mean(), inplace=True)\n",
    "df_dementia_disease[\"MMSE\"].fillna(df_dementia_disease[\"MMSE\"].mean(), inplace=True)\n",
    "\n",
    "for col in df_dementia_disease.columns.values:\n",
    "    df_dementia_disease[col].fillna(df_dementia_disease[col].mode(), inplace=True)\n",
    "df_dementia_disease[\"Group\"].fillna(df_dementia_disease[\"Group\"].mode(), inplace=True)\n",
    "df_dementia_disease[df_dementia_disease[\"Group\"] != 1]"
   ]
  },
  {
   "cell_type": "code",
   "execution_count": null,
   "metadata": {
    "ExecuteTime": {
     "start_time": "2024-01-09T16:43:34.707709100Z"
    },
    "collapsed": false
   },
   "outputs": [],
   "source": []
  },
  {
   "cell_type": "code",
   "execution_count": null,
   "metadata": {},
   "outputs": [],
   "source": []
  },
  {
   "cell_type": "code",
   "execution_count": 31,
   "metadata": {},
   "outputs": [
    {
     "name": "stdout",
     "output_type": "stream",
     "text": [
      "Visit 0\n",
      "MR Delay 0\n",
      "M/F 0\n",
      "Hand 0\n",
      "Age 0\n",
      "EDUC 0\n",
      "SES 0\n",
      "MMSE 0\n",
      "CDR 0\n",
      "eTIV 0\n",
      "nWBV 0\n",
      "ASF 0\n",
      "Group 0\n"
     ]
    }
   ],
   "source": [
    "for col in df_dementia_disease.columns.values:\n",
    "    print(col,df_dementia_disease[col].isna().sum())"
   ]
  },
  {
   "cell_type": "code",
   "execution_count": 32,
   "metadata": {
    "ExecuteTime": {
     "end_time": "2024-01-09T16:43:34.709738600Z",
     "start_time": "2024-01-09T16:43:34.708711100Z"
    },
    "collapsed": false
   },
   "outputs": [],
   "source": [
    "# df_heart_disease = pd.get_dummies(df_heart_disease, columns=['ChestPainType'])\n",
    "label_encoder = LabelEncoder()\n",
    "df_heart_disease['ChestPainType'] = label_encoder.fit_transform(df_heart_disease['ChestPainType'])\n",
    "df_heart_disease['ST_Slope'] = label_encoder.fit_transform(df_heart_disease['ST_Slope'])\n",
    "df_heart_disease['ExerciseAngina'] = label_encoder.fit_transform(df_heart_disease['ExerciseAngina'])\n",
    "df_heart_disease[\"RestingECG\"] =label_encoder.fit_transform(df_heart_disease['RestingECG'])\n",
    "df_heart_disease[\"Sex\"] =label_encoder.fit_transform(df_heart_disease['Sex'])"
   ]
  },
  {
   "cell_type": "code",
   "execution_count": 33,
   "metadata": {
    "ExecuteTime": {
     "end_time": "2024-01-09T16:43:34.729530800Z",
     "start_time": "2024-01-09T16:43:34.712254400Z"
    }
   },
   "outputs": [],
   "source": [
    "# plt.figure(figsize=(8, 6))\n",
    "# sns.heatmap(df.corr(), annot=True, cmap='coolwarm', fmt='.2f', linewidths=0.5)\n",
    "# plt.title('Correlation Matrix Heatmap')\n",
    "# plt.show()"
   ]
  },
  {
   "cell_type": "code",
   "execution_count": 34,
   "metadata": {
    "ExecuteTime": {
     "end_time": "2024-01-09T16:43:34.766229600Z",
     "start_time": "2024-01-09T16:43:34.716403700Z"
    },
    "collapsed": false
   },
   "outputs": [],
   "source": [
    "def predict_output(algorithm, X_train, y_train, x_test, y_test):\n",
    "    algorithm.fit(X_train, y_train)\n",
    "    y_pred = algorithm.predict(x_test)\n",
    "    return accuracy_score(y_test, y_pred).__round__(3)"
   ]
  },
  {
   "cell_type": "code",
   "execution_count": 35,
   "metadata": {
    "ExecuteTime": {
     "end_time": "2024-01-09T16:43:34.769237800Z",
     "start_time": "2024-01-09T16:43:34.735118800Z"
    },
    "collapsed": false
   },
   "outputs": [
    {
     "name": "stdout",
     "output_type": "stream",
     "text": [
      "Logistic Regression Accuracy:  0.725\n",
      "Support Vector Machine Accuracy:  0.96\n",
      "Decision Tree Accuracy:  0.68\n",
      "Random Forest Accuracy:  0.891\n"
     ]
    }
   ],
   "source": [
    "from sklearn.model_selection import train_test_split\n",
    "\n",
    "\n",
    "X_live_disease = pd.DataFrame(df_liver_disease.iloc[:, 0:len(df_liver_disease.columns) - 1])\n",
    "y_live_disease = df_liver_disease.iloc[:, len(df_liver_disease.columns) - 1]\n",
    "x_lung_cancer = pd.DataFrame(df_liver_disease.iloc[:, 0:len(df_liver_disease.columns) - 1])\n",
    "y_lung_cancer = df_liver_disease.iloc[:, len(df_liver_disease.columns) - 1]\n",
    "x_dementia_disease = pd.DataFrame(df_dementia_disease.iloc[:, 0:len(df_dementia_disease.columns) - 1])\n",
    "y_dementia_disease = df_dementia_disease.iloc[:, len(df_dementia_disease.columns) - 1]\n",
    "x_heart_disease = pd.DataFrame(df_heart_disease.iloc[:, 0:len(df_heart_disease.columns) - 1])\n",
    "y_heart_disease = df_heart_disease.iloc[:, len(df_heart_disease.columns) - 1]\n",
    "\n",
    "\n",
    "df_liver_disease_X_train,df_liver_disease_X_test,df_liver_disease_y_train,df_liver_disease_y_test = train_test_split(X_live_disease,y_live_disease,test_size=0.2,random_state=42)\n",
    "df_dementia_disease_X_train,df_dementia_disease_X_test,df_dementia_disease_y_train,df_dementia_disease_y_test = train_test_split(x_dementia_disease,y_dementia_disease,test_size=0.2,random_state=42)\n",
    "df_heart_disease_X_train,df_heart_disease_X_test,df_heart_disease_y_train,df_heart_disease_y_test = train_test_split(x_heart_disease,y_heart_disease,test_size=0.2,random_state=42)\n",
    "df_lung_cancer_X_train,df_lung_cancer_X_test,df_lung_cancer_y_train,df_lung_cancer_y_test = train_test_split(x_lung_cancer,y_lung_cancer,test_size=0.2,random_state=42)\n",
    "\n",
    "\n",
    "logistic_regression = LogisticRegression(max_iter=5000)\n",
    "logistic_regression.fit(df_liver_disease_X_train,df_liver_disease_y_train)\n",
    "y_pred = logistic_regression.predict(df_liver_disease_X_test)\n",
    "\n",
    "print(\"Logistic Regression Accuracy: \", accuracy_score(df_liver_disease_y_test, y_pred).__round__(3))\n",
    "\n",
    "\n",
    "support_vector_machine = LinearSVC(max_iter=10000, dual=False)\n",
    "support_vector_machine.fit(df_dementia_disease_X_train,df_dementia_disease_y_train)\n",
    "print(\"Support Vector Machine Accuracy: \", accuracy_score(df_dementia_disease_y_test, support_vector_machine.predict(df_dementia_disease_X_test)).__round__(3))\n",
    "\n",
    "knn = KNeighborsClassifier(n_neighbors=5)\n",
    "knn.fit(df_lung_cancer_X_train,df_lung_cancer_y_train)\n",
    "y_pred = knn.predict(df_lung_cancer_X_test)\n",
    "print(\"Decision Tree Accuracy: \", accuracy_score(df_lung_cancer_y_test, y_pred).__round__(3))\n",
    "\n",
    "randomforest = RandomForestClassifier(n_estimators=100)\n",
    "randomforest.fit(df_heart_disease_X_train,df_heart_disease_y_train)\n",
    "randomforest.predict(df_heart_disease_X_test)\n",
    "\n",
    "print(\"Random Forest Accuracy: \", accuracy_score(df_heart_disease_y_test, randomforest.predict(df_heart_disease_X_test)).__round__(3))\n",
    "\n",
    "# print(\"Logistic Regression Accuracy: \", np.mean(LogisticRegression_accuracy))\n",
    "# print(\"Decision Tree Accuracy: \", np.mean(DecisionTree_accuracy))\n",
    "# print(\"Support Vector Machine Accuracy: \", np.mean(SupportVectorMachine_accuracy))\n",
    "# print(\"K-Nearest Neighbors Accuracy: \", np.mean(KNearestNeighbors_accuracy))\n",
    "# print(\"Random Forest Accuracy: \", np.mean(RandomForest_accuracy))"
   ]
  },
  {
   "cell_type": "code",
   "execution_count": 36,
   "metadata": {
    "ExecuteTime": {
     "end_time": "2024-01-09T16:43:45.550197700Z",
     "start_time": "2024-01-09T16:43:45.540524400Z"
    },
    "collapsed": false
   },
   "outputs": [
    {
     "data": {
      "text/html": [
       "<div>\n",
       "<style scoped>\n",
       "    .dataframe tbody tr th:only-of-type {\n",
       "        vertical-align: middle;\n",
       "    }\n",
       "\n",
       "    .dataframe tbody tr th {\n",
       "        vertical-align: top;\n",
       "    }\n",
       "\n",
       "    .dataframe thead th {\n",
       "        text-align: right;\n",
       "    }\n",
       "</style>\n",
       "<table border=\"1\" class=\"dataframe\">\n",
       "  <thead>\n",
       "    <tr style=\"text-align: right;\">\n",
       "      <th></th>\n",
       "      <th>Age</th>\n",
       "      <th>Sex</th>\n",
       "      <th>ChestPainType</th>\n",
       "      <th>RestingBP</th>\n",
       "      <th>Cholesterol</th>\n",
       "      <th>FastingBS</th>\n",
       "      <th>RestingECG</th>\n",
       "      <th>MaxHR</th>\n",
       "      <th>ExerciseAngina</th>\n",
       "      <th>Oldpeak</th>\n",
       "      <th>ST_Slope</th>\n",
       "      <th>HeartDisease</th>\n",
       "    </tr>\n",
       "  </thead>\n",
       "  <tbody>\n",
       "    <tr>\n",
       "      <th>0</th>\n",
       "      <td>40</td>\n",
       "      <td>1</td>\n",
       "      <td>1</td>\n",
       "      <td>140</td>\n",
       "      <td>289</td>\n",
       "      <td>0</td>\n",
       "      <td>1</td>\n",
       "      <td>172</td>\n",
       "      <td>0</td>\n",
       "      <td>0.0</td>\n",
       "      <td>2</td>\n",
       "      <td>0</td>\n",
       "    </tr>\n",
       "    <tr>\n",
       "      <th>1</th>\n",
       "      <td>49</td>\n",
       "      <td>0</td>\n",
       "      <td>2</td>\n",
       "      <td>160</td>\n",
       "      <td>180</td>\n",
       "      <td>0</td>\n",
       "      <td>1</td>\n",
       "      <td>156</td>\n",
       "      <td>0</td>\n",
       "      <td>1.0</td>\n",
       "      <td>1</td>\n",
       "      <td>1</td>\n",
       "    </tr>\n",
       "    <tr>\n",
       "      <th>2</th>\n",
       "      <td>37</td>\n",
       "      <td>1</td>\n",
       "      <td>1</td>\n",
       "      <td>130</td>\n",
       "      <td>283</td>\n",
       "      <td>0</td>\n",
       "      <td>2</td>\n",
       "      <td>98</td>\n",
       "      <td>0</td>\n",
       "      <td>0.0</td>\n",
       "      <td>2</td>\n",
       "      <td>0</td>\n",
       "    </tr>\n",
       "    <tr>\n",
       "      <th>3</th>\n",
       "      <td>48</td>\n",
       "      <td>0</td>\n",
       "      <td>0</td>\n",
       "      <td>138</td>\n",
       "      <td>214</td>\n",
       "      <td>0</td>\n",
       "      <td>1</td>\n",
       "      <td>108</td>\n",
       "      <td>1</td>\n",
       "      <td>1.5</td>\n",
       "      <td>1</td>\n",
       "      <td>1</td>\n",
       "    </tr>\n",
       "    <tr>\n",
       "      <th>4</th>\n",
       "      <td>54</td>\n",
       "      <td>1</td>\n",
       "      <td>2</td>\n",
       "      <td>150</td>\n",
       "      <td>195</td>\n",
       "      <td>0</td>\n",
       "      <td>1</td>\n",
       "      <td>122</td>\n",
       "      <td>0</td>\n",
       "      <td>0.0</td>\n",
       "      <td>2</td>\n",
       "      <td>0</td>\n",
       "    </tr>\n",
       "  </tbody>\n",
       "</table>\n",
       "</div>"
      ],
      "text/plain": [
       "   Age  Sex  ChestPainType  RestingBP  Cholesterol  FastingBS  RestingECG  \\\n",
       "0   40    1              1        140          289          0           1   \n",
       "1   49    0              2        160          180          0           1   \n",
       "2   37    1              1        130          283          0           2   \n",
       "3   48    0              0        138          214          0           1   \n",
       "4   54    1              2        150          195          0           1   \n",
       "\n",
       "   MaxHR  ExerciseAngina  Oldpeak  ST_Slope  HeartDisease  \n",
       "0    172               0      0.0         2             0  \n",
       "1    156               0      1.0         1             1  \n",
       "2     98               0      0.0         2             0  \n",
       "3    108               1      1.5         1             1  \n",
       "4    122               0      0.0         2             0  "
      ]
     },
     "execution_count": 36,
     "metadata": {},
     "output_type": "execute_result"
    }
   ],
   "source": [
    "df_heart_disease.head()"
   ]
  },
  {
   "cell_type": "code",
   "execution_count": null,
   "metadata": {
    "ExecuteTime": {
     "end_time": "2024-01-09T16:43:34.912550800Z",
     "start_time": "2024-01-09T16:43:34.795316300Z"
    },
    "collapsed": false
   },
   "outputs": [],
   "source": []
  }
 ],
 "metadata": {
  "kernelspec": {
   "display_name": "Python 3",
   "language": "python",
   "name": "python3"
  },
  "language_info": {
   "codemirror_mode": {
    "name": "ipython",
    "version": 3
   },
   "file_extension": ".py",
   "mimetype": "text/x-python",
   "name": "python",
   "nbconvert_exporter": "python",
   "pygments_lexer": "ipython3",
   "version": "3.12.1"
  }
 },
 "nbformat": 4,
 "nbformat_minor": 2
}
